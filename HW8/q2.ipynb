{
 "cells": [
  {
   "cell_type": "markdown",
   "id": "08014f53",
   "metadata": {},
   "source": [
    "سروش تابش ۹۸۱۰۰۳۷۸\n",
    "# پرسش ۲\n",
    "برای حل این مسئله، ابتدا به صورت کمترین مربعات مدل می‌کنیم؛ مقادیر $I_i$\n",
    "را در یک بردار $\\tilde I$\n",
    "قرار می‌دهیم و مقادیر $a_{ij}$\n",
    "را نیز در یک ماتریس $A$\n",
    "قرار می‌دهیم و مسئله به فرم بهینه‌سازی $\\underset{x}{\\min}{\\lVert \\tilde I - I\\rVert_2}$\n",
    "یا به عبارت دیگر، $\\underset{p}{\\min}{\\lVert A p - I\\rVert_2}$\n",
    "می‌شود که $p$\n",
    "بردار توان لامپ‌هاست.\n",
    "اما شرط دیگری که در مسئله وجود دارد، محدودیت روی متغیر توان است که باید بین صفر و یک باشد. پس داریم:\n",
    "\n",
    "$$p = \\underset{0 \\le p_i \\le 1}{\\text{argmin}}{\\lVert A p - I\\rVert_2^2}$$\n",
    "\n",
    "برای حل این مسئله به دو روش می‌توانیم اقدام کنیم.    \n",
    "روش اول، $\\text{gradient descent}$\n",
    "است که در جهت منفی گرادیان خطا که برابر $A^T(b-Ap)$\n",
    "است حرکت می‌کنیم و زمانی که یک متغیر در مرز قرار دارد و بردار تغییر به سمت خارج فضای شدنی‌ست، تغییری در آن ایجاد نمی‌کنیم. از آنجایی که بهینه‌سازی درجه دو است، پس یک نقطه کمینه داریم و مشکل قرار گرفتن در کمینه‌های محلی را نداریم.    \n",
    "روش دوم، که میخواهیم آن را پیاده کنیم، استفاده از الگوریتم     \n",
    "[Bounded-Variable Least-Squares](https://www.stat.berkeley.edu/~stark/Preprints/bvls.pdf)    \n",
    "است که در آن، به صورت مرحله به مرحله متغیر هایی که در مرز نیستند و یا روی مرز با گرادیان به سمت خارج هستند(این دو دسته از متغیر‌ها را متغیر آزاد می‌نامیم) را بهینه میکنیم و بقیه متغیر‌ها را ثابت نگه می‌داریم. با این‌کار در هر مرحله خطا اکیدن کاهش پیدا می‌کند و با سرعت بیشتری نسبت به روش قبل همگرا می‌شود. برای بهینه‌سازی متغیر‌های آزاد در هر مرحله، ابتدا با روش کمترین مربعات عادی، فقط روی متغیر‌های آزاد حل می‌کنیم و دیگر متغیرها را ثابت می‌گیریم؛ برای ثابت نگه داشتن دیگر متغیر‌ها، هر کدام را در ستون متناظرش در $A$\n",
    "ضرب می‌کنیم، از $b$\n",
    "کم میکنیم و آن را حذف می‌کنیم سپس متغیر‌های آزاد را با کمترین مربعات خطی عادی بهینه می‌کنیم و بردار به دست آمده را $z$\n",
    "می نامیم. حال برای آپدیت کردن $p$،\n",
    "درایه‌های متغیر‌های آزاد را در راستای $z-p$\n",
    "حرکت می‌دهیم تا به $z$\n",
    "یا به مرز برسند.\n"
   ]
  },
  {
   "cell_type": "code",
   "execution_count": 1,
   "id": "00ad22dc",
   "metadata": {},
   "outputs": [
    {
     "data": {
      "text/plain": [
       "1.747845484"
      ]
     },
     "execution_count": 1,
     "metadata": {},
     "output_type": "execute_result"
    }
   ],
   "source": [
    "using LinearAlgebra, DelimitedFiles\n",
    "\n",
    "data = readdlm(\"./data/Q2/data1.txt\")\n",
    "l = data[1:70, :]\n",
    "v = data[71:121, :]\n",
    "intensity = data[122, 1]"
   ]
  },
  {
   "cell_type": "code",
   "execution_count": 2,
   "id": "d096d240",
   "metadata": {},
   "outputs": [],
   "source": [
    "mids = (v+circshift(v, (-1, 0)))[1:end-1, :] ./ 2\n",
    "normals = (circshift(v, (-1, 0))-v)[1:end-1, :] * [0 1; -1 0]\n",
    "A = zeros((50, 70))\n",
    "b = ones(50) .* intensity\n",
    "\n",
    "for i = 1:50\n",
    "    for j = 1:70\n",
    "        d = l[j, :] - mids[i, :]\n",
    "        A[i, j] = (normals[i, :] ⋅ d) / (norm(d) * norm(normals[i, :]))\n",
    "        A[i, j] = max(A[i, j], 0) / (norm(d)^2)\n",
    "    end\n",
    "end"
   ]
  },
  {
   "cell_type": "code",
   "execution_count": 3,
   "id": "bc654b5f",
   "metadata": {},
   "outputs": [
    {
     "data": {
      "text/plain": [
       "70-element Array{Float64,1}:\n",
       " 1.0\n",
       " 1.0\n",
       " 1.0\n",
       " 1.0\n",
       " 1.0\n",
       " 1.0\n",
       " 1.0\n",
       " 1.0\n",
       " 1.0\n",
       " 1.0\n",
       " 1.0\n",
       " 0.9999999999999999\n",
       " 1.0\n",
       " ⋮\n",
       " 1.0\n",
       " 1.0\n",
       " 1.0\n",
       " 1.0\n",
       " 1.0\n",
       " 1.0\n",
       " 1.0\n",
       " 1.0\n",
       " 1.0\n",
       " 0.9999999999999999\n",
       " 1.0\n",
       " 1.0"
      ]
     },
     "execution_count": 3,
     "metadata": {},
     "output_type": "execute_result"
    }
   ],
   "source": [
    "function BVLS(A, b, l, u, max_iter = 2 * size(A)[2], eps = 1e-12)\n",
    "    m, n = size(A)\n",
    "    F = Set([])\n",
    "    U = Set([])\n",
    "    L = Set(1:n)\n",
    "    x = ones(n) * l\n",
    "    iter = 0\n",
    "    ign = []\n",
    "    while length(F) < n && iter < max_iter\n",
    "        iter += 1\n",
    "\n",
    "        # Kuhn-Tucker convergence test\n",
    "        w = A' * (b - A * x)\n",
    "        if all(w[collect(L)] .<= 0) &&\n",
    "           all(w[collect(U)] .>= 0) &&\n",
    "           all((w[collect(F)] .< eps) .& (w[collect(F)] .> -eps))\n",
    "            break\n",
    "        end\n",
    "\n",
    "        # Find critical variables which are not ignored\n",
    "        T = setdiff(union(U, L), ign)\n",
    "        if length(T) == 0\n",
    "            break\n",
    "        end\n",
    "\n",
    "        # Extract critical variable with highest outward gradient\n",
    "        sg = zeros(n)\n",
    "        sg[collect(L)] .= 1\n",
    "        sg[collect(U)] .= -1\n",
    "        ts = collect(T)[argmax((t -> sg[t] * w[t]).(collect(T)))]\n",
    "        pop!(L, ts, nothing)\n",
    "        pop!(U, ts, nothing)\n",
    "        push!(F, ts)\n",
    "\n",
    "        # least squares on free variables\n",
    "        B = collect(union(U, L))\n",
    "        bp = vec(b - A[:, B] * x[B])\n",
    "        Ap = A[:, collect(F)]\n",
    "        z = Ap \\ bp\n",
    "\n",
    "        # if all free variables have optimal values inside the feasible set, we're done\n",
    "        if all(z .> l) && all(z .< u)\n",
    "            x[collect(F)] .= z\n",
    "            continue\n",
    "        end\n",
    "\n",
    "        # limit solution to the bounds\n",
    "        α = Inf\n",
    "        for jp = 1:length(z)\n",
    "            j = collect(F)[jp]\n",
    "            if z[jp] > u || z[jp] < l\n",
    "                if z[jp] > x[j]\n",
    "                    a = (u - x[j]) / (z[jp] - x[j])\n",
    "                else\n",
    "                    a = (l - x[j]) / (z[jp] - x[j])\n",
    "                end\n",
    "                α = min(α, a)\n",
    "            end\n",
    "        end\n",
    "\n",
    "        # if bounding is too small, ignore this new free variable\n",
    "        if α < eps\n",
    "            push!(ign, ts)\n",
    "        else\n",
    "            ign = []\n",
    "        end\n",
    "\n",
    "        # update free and critical variables\n",
    "        Fnew = copy(F)\n",
    "        for jp = 1:length(z)\n",
    "            j = collect(F)[jp]\n",
    "            x[j] += α * (z[jp] - x[j])\n",
    "            if x[j] >= u - eps\n",
    "                pop!(Fnew, j)\n",
    "                push!(U, j)\n",
    "            elseif x[j] <= l + eps\n",
    "                pop!(Fnew, j)\n",
    "                push!(L, j)\n",
    "            end\n",
    "        end\n",
    "        F = Fnew\n",
    "    end\n",
    "    return x\n",
    "end\n",
    "\n",
    "\n",
    "p = BVLS(A, b, 0.0, 1.0)"
   ]
  },
  {
   "cell_type": "code",
   "execution_count": 4,
   "id": "cd23c46f",
   "metadata": {},
   "outputs": [
    {
     "data": {
      "text/plain": [
       "0.2311439539605226"
      ]
     },
     "execution_count": 4,
     "metadata": {},
     "output_type": "execute_result"
    }
   ],
   "source": [
    "error = norm(A * p - b) / 50"
   ]
  }
 ],
 "metadata": {
  "kernelspec": {
   "display_name": "Julia 1.5.3",
   "language": "julia",
   "name": "julia-1.5"
  },
  "language_info": {
   "file_extension": ".jl",
   "mimetype": "application/julia",
   "name": "julia",
   "version": "1.5.3"
  }
 },
 "nbformat": 4,
 "nbformat_minor": 5
}
