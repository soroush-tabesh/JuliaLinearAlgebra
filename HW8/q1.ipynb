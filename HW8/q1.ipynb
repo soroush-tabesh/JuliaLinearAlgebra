{
 "cells": [
  {
   "cell_type": "markdown",
   "id": "cb37fc53",
   "metadata": {},
   "source": [
    "# پرسش ۱\n",
    "همانطور که در صورت سوال گفته شد، برای محسابه حجم چندوجهی، ابتدا ابرمکعب محیطی این چند وجهی را با تقسیم نقطه‌ای $b$\n",
    "بر $A$\n",
    "و پیدا کردن کمترین درایه، پیدا می‌کنیم. سپس تعدادی نقطه در این ابر مکعب تولید می‌کنیم و این نقاط را در نامعادله قرار می‌دهیم و نسبت نقاطی که در این نامعادله صدق می‌کنند را به دست آورده و در حجم ابرمکعب ضرب می‌کنیم. حجم ابرمکعب را از ضرب طول اضلاع به دست می‌آوریم۰"
   ]
  },
  {
   "cell_type": "code",
   "execution_count": 3,
   "id": "301a0631",
   "metadata": {},
   "outputs": [
    {
     "name": "stdout",
     "output_type": "stream",
     "text": [
      "stdin> 3\n",
      "stdin> 1 1 0\n",
      "stdin> 1 0 1\n",
      "stdin> 0 1 1\n",
      "stdin> 1 1 1\n"
     ]
    },
    {
     "data": {
      "text/plain": [
       "3"
      ]
     },
     "execution_count": 3,
     "metadata": {},
     "output_type": "execute_result"
    }
   ],
   "source": [
    "using LinearAlgebra\n",
    "\n",
    "m = parse(Int, strip(readline()))\n",
    "A = [parse.(Float64, split(readline())) for i = 1:m]\n",
    "A = collect(hcat(A...)')\n",
    "b = parse.(Float64, split(strip(readline())))\n",
    "n = length(b)"
   ]
  },
  {
   "cell_type": "code",
   "execution_count": 4,
   "id": "2d675695",
   "metadata": {},
   "outputs": [
    {
     "data": {
      "text/plain": [
       "0.250684"
      ]
     },
     "execution_count": 4,
     "metadata": {},
     "output_type": "execute_result"
    }
   ],
   "source": [
    "function polytope_volume(A, b, N = 1000000)\n",
    "\n",
    "    bounds = vec(minimum(b ./ A, dims = 1))\n",
    "\n",
    "    S = rand(Float64, (n, N))\n",
    "    S .*= bounds\n",
    "    M = count(sum((A * S) .< b, dims = 1) .== n)\n",
    "\n",
    "    Ṽ = prod(bounds)\n",
    "    V = M / N * Ṽ\n",
    "end\n",
    "\n",
    "polytope_volume(A, b)"
   ]
  }
 ],
 "metadata": {
  "kernelspec": {
   "display_name": "Julia 1.5.3",
   "language": "julia",
   "name": "julia-1.5"
  },
  "language_info": {
   "file_extension": ".jl",
   "mimetype": "application/julia",
   "name": "julia",
   "version": "1.5.3"
  }
 },
 "nbformat": 4,
 "nbformat_minor": 5
}
