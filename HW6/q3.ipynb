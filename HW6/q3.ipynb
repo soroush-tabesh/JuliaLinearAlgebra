{
 "cells": [
  {
   "cell_type": "code",
   "execution_count": 6,
   "id": "98868855",
   "metadata": {},
   "outputs": [
    {
     "name": "stdout",
     "output_type": "stream",
     "text": [
      "30.38051645629493\n",
      "28.14710648981861\n"
     ]
    }
   ],
   "source": [
    "using LinearAlgebra\n",
    "\n",
    "A = rand(10000, 500)\n",
    "b = rand(10000)\n",
    "\n",
    "function kaczmarz_ls(A, b, iter = size(A)[2])\n",
    "    x = zeros(size(A)[2])\n",
    "    for k = 1:iter\n",
    "        i = k % size(A)[1] + 1\n",
    "        t = ((b[i] - A[i, :] ⋅ x) / (norm(A[i, :])^2)) * A[i, :]\n",
    "        x .+= t\n",
    "    end\n",
    "    return x\n",
    "end\n",
    "\n",
    "kls = kaczmarz_ls(A, b)\n",
    "err_kls = norm(b - A * kls)\n",
    "\n",
    "ls = A \\ b\n",
    "err_ls = norm(b - A * ls)\n",
    "\n",
    "println(err_kls)\n",
    "println(err_ls)"
   ]
  }
 ],
 "metadata": {
  "kernelspec": {
   "display_name": "Julia 1.5.3",
   "language": "julia",
   "name": "julia-1.5"
  },
  "language_info": {
   "file_extension": ".jl",
   "mimetype": "application/julia",
   "name": "julia",
   "version": "1.5.3"
  }
 },
 "nbformat": 4,
 "nbformat_minor": 5
}
