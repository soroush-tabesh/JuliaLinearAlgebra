{
 "cells": [
  {
   "cell_type": "code",
   "execution_count": 1,
   "id": "6a3c79a4",
   "metadata": {},
   "outputs": [],
   "source": [
    "using LinearAlgebra"
   ]
  },
  {
   "cell_type": "code",
   "execution_count": 2,
   "id": "c7b6a190",
   "metadata": {},
   "outputs": [
    {
     "data": {
      "text/plain": [
       "3×5 Array{Int64,2}:\n",
       " 1  0  0  -1  1\n",
       " 0  1  1   0  0\n",
       " 1  0  0   1  0"
      ]
     },
     "execution_count": 2,
     "metadata": {},
     "output_type": "execute_result"
    }
   ],
   "source": [
    "A = [\n",
    "    1 0 0 -1 1\n",
    "    0 1 1 0 0\n",
    "    1 0 0 1 0\n",
    "]"
   ]
  },
  {
   "cell_type": "markdown",
   "id": "8bd3af1c",
   "metadata": {
    "direction": "rtl"
   },
   "source": [
    "الف) بله ممکن است. از آنجایی که دو ستون اول ماتریس $A$ وابسته خطی هستند، پس می‌توان وارونی ساخت که دو سطر اول $B$ وابسته خطی باشند. برای این منظور اگر ستون دوم ماتریس $A$ را صفر کنیم، همچنان فول‌رنک باقی می‌ماند ولی ستون دوم $A$ هنگام ضرب در سطر دوم $B$ صفر می‌شود. پس سطر دوم $B$ هر چیزی می‌تواند باشد که به جای آن صفر قرار می‌دهیم.  \n",
    "برای به دست آوردن ماتریس وارون راست نیز از شبه‌وارون راست استفاده می‌کنیم که به صورت زیر است:"
   ]
  },
  {
   "cell_type": "markdown",
   "id": "82018e2d",
   "metadata": {
    "direction": "ltr"
   },
   "source": [
    "$$B = A^T(AA^T)^{-1}$$"
   ]
  },
  {
   "cell_type": "code",
   "execution_count": 3,
   "id": "011557dc",
   "metadata": {},
   "outputs": [
    {
     "data": {
      "text/plain": [
       "5×3 Array{Float64,2}:\n",
       "  0.333333  0.0  0.5\n",
       "  0.0       0.0  0.0\n",
       "  0.0       1.0  0.0\n",
       " -0.333333  0.0  0.5\n",
       "  0.333333  0.0  0.0"
      ]
     },
     "execution_count": 3,
     "metadata": {},
     "output_type": "execute_result"
    }
   ],
   "source": [
    "A1 = copy(A)\n",
    "\n",
    "A1[:,2] .= 0\n",
    "B1 = A1'*inv(A1*A1')\n",
    "\n",
    "B1[2,:] .= 0\n",
    "\n",
    "B1"
   ]
  },
  {
   "cell_type": "code",
   "execution_count": 4,
   "id": "b6dd811f",
   "metadata": {
    "scrolled": true
   },
   "outputs": [
    {
     "data": {
      "text/plain": [
       "3×3 Array{Float64,2}:\n",
       " 1.0  0.0  0.0\n",
       " 0.0  1.0  0.0\n",
       " 0.0  0.0  1.0"
      ]
     },
     "execution_count": 4,
     "metadata": {},
     "output_type": "execute_result"
    }
   ],
   "source": [
    "A*B1"
   ]
  },
  {
   "cell_type": "markdown",
   "id": "3a4cd42f",
   "metadata": {
    "direction": "rtl"
   },
   "source": [
    "ب) خیر ممکن نیست. اگر فضای پوچ $B$ تهی نباشد، پس بردار ناصفر $v$ وجود دارد که $Bv=0$ است. از طرفی باید $AB=I$ باشد ولی اگر بردار $v$ را از راست ضرب کنیم طرف چپ معادله برابر صفر ولی طرف راست معادله برابر $v$ می‌شود که با فرض ناصفر بودن آن در تناقض است."
   ]
  },
  {
   "cell_type": "markdown",
   "id": "cacb5af1",
   "metadata": {
    "direction": "rtl"
   },
   "source": [
    " ج) خیر ممکن نیست. اگر سومین ستون $B$ صفر باشد، با توجه به لاغر بودن $B$، دیگر فول‌رنک نخواهد بود و با توجه به قسمت قبل چنین چیزی ممکن نیست."
   ]
  },
  {
   "cell_type": "markdown",
   "id": "4d6d561c",
   "metadata": {
    "direction": "rtl"
   },
   "source": [
    "د) بله ممکن است. به مانند قسمت الف، از آنجایی که ستون دوم و سوم ماتریس $A$ مشابه‌اند، پس در فرم شبه‌وارون راست آن‌ها نیز سطر دوم و سوم مشابه خواهند بود."
   ]
  },
  {
   "cell_type": "code",
   "execution_count": 5,
   "id": "6289cff0",
   "metadata": {},
   "outputs": [
    {
     "data": {
      "text/plain": [
       "5×3 Array{Float64,2}:\n",
       "  0.333333  0.0  0.5\n",
       "  0.0       0.5  0.0\n",
       "  0.0       0.5  0.0\n",
       " -0.333333  0.0  0.5\n",
       "  0.333333  0.0  0.0"
      ]
     },
     "execution_count": 5,
     "metadata": {},
     "output_type": "execute_result"
    }
   ],
   "source": [
    "B4 = A'*inv(A*A')"
   ]
  },
  {
   "cell_type": "code",
   "execution_count": 6,
   "id": "c4682dee",
   "metadata": {},
   "outputs": [
    {
     "data": {
      "text/plain": [
       "3×3 Array{Float64,2}:\n",
       " 1.0  0.0  0.0\n",
       " 0.0  1.0  0.0\n",
       " 0.0  0.0  1.0"
      ]
     },
     "execution_count": 6,
     "metadata": {},
     "output_type": "execute_result"
    }
   ],
   "source": [
    "A*B4"
   ]
  },
  {
   "cell_type": "markdown",
   "id": "287cc5c3",
   "metadata": {
    "direction": "rtl"
   },
   "source": [
    "ه) خیر ممکن نیست. اگر تنها سه ستون اول ماتریس $A$ را در نظر بگیریم، فول‌رنک نخواهد بود. بنابرین، با توجه به اینکه در صورت بالامثلثی بودن $B$ سه ستون آخر $A$ بی تاثیر می‌شود، پس حاصلضرب $AB$ نیز فول‌رنک نخواهد بود."
   ]
  },
  {
   "cell_type": "markdown",
   "id": "826a2e50",
   "metadata": {},
   "source": [
    "$$\n",
    "\\begin{align}\n",
    "A &= \\big[\\begin{array}{c|c} A_{3\\times 3} & A_{3\\times 2}\\end{array}\\big] \\\\\n",
    "B &= \\begin{bmatrix} U \\\\ 0\\end{bmatrix} \\\\\n",
    "\\implies AB &= A_{3\\times 3}U \n",
    "\\end{align}\n",
    "\\\\~\\\\\n",
    "rank(A_{3\\times 3}) < 3 \\implies rank(A_{3\\times 3}U) < 3 \\implies rank(AB) < 3 \\implies AB \\ne I\n",
    "$$"
   ]
  },
  {
   "cell_type": "code",
   "execution_count": null,
   "id": "cbeee588",
   "metadata": {},
   "outputs": [],
   "source": []
  }
 ],
 "metadata": {
  "direction": "ltr",
  "kernelspec": {
   "display_name": "Julia 1.5.3",
   "language": "julia",
   "name": "julia-1.5"
  },
  "language_info": {
   "file_extension": ".jl",
   "mimetype": "application/julia",
   "name": "julia",
   "version": "1.5.3"
  }
 },
 "nbformat": 4,
 "nbformat_minor": 5
}
