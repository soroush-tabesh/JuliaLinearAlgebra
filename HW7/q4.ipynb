{
 "cells": [
  {
   "cell_type": "markdown",
   "id": "9b0b6988",
   "metadata": {},
   "source": [
    "# پرسش ۴\n",
    "\n",
    "ماتریس $A$\n",
    "را همانطور که قبل‌تر گفته شد میسازیم و با روش کمترین مربعات آن‌را روی $b$\n",
    "حل می‌کنیم. سپس جواب به دست آمده را در $A$\n",
    "ضرب می‌کنیم تا مطمئن شویم که شبیه به $b$\n",
    "می‌شود که به این معناست که $b$\n",
    "در فضای ستونی $A$\n",
    "قرار دارد۰    \n",
    "در صورتی که جواب منفی باشد، چنین ماتریس $H$\n",
    "وجود ندارد۰"
   ]
  },
  {
   "cell_type": "code",
   "execution_count": 1,
   "id": "bbb2fb2e",
   "metadata": {},
   "outputs": [
    {
     "data": {
      "text/plain": [
       "dual_inverter (generic function with 1 method)"
      ]
     },
     "execution_count": 1,
     "metadata": {},
     "output_type": "execute_result"
    }
   ],
   "source": [
    "using LinearAlgebra\n",
    "\n",
    "\n",
    "function get_single_flat_col(sz, arr, i)\n",
    "    mat = zeros(sz)\n",
    "    mat[:, i] = arr\n",
    "    return vec(mat)\n",
    "end\n",
    "\n",
    "function get_inverter_matrix(mat)\n",
    "    A = []\n",
    "    b = []\n",
    "    sz = size(mat)\n",
    "    for i = 1:sz[2]\n",
    "        for j = 1:sz[2]\n",
    "            push!(A, get_single_flat_col(sz, mat[:, i], j))\n",
    "            if i == j\n",
    "                push!(b, 1)\n",
    "            else\n",
    "                push!(b, 0)\n",
    "            end\n",
    "        end\n",
    "    end\n",
    "    A = collect(hcat(A...)')\n",
    "    b = collect(vcat(b...))\n",
    "    return A, b\n",
    "end\n",
    "\n",
    "function dual_inverter(mat1, mat2)\n",
    "    A1, b1 = get_inverter_matrix(mat1)\n",
    "    A2, b2 = get_inverter_matrix(mat2)\n",
    "    A = [A1; A2]\n",
    "    b = [b1; b2]\n",
    "    res = A \\ b\n",
    "    res = reshape(res, size(mat1))\n",
    "    res = collect(res')\n",
    "    if norm(I - res * mat1) + norm(I - res * mat2) > 1e-6\n",
    "        return -1\n",
    "    end\n",
    "    return res\n",
    "end\n"
   ]
  },
  {
   "cell_type": "markdown",
   "id": "b990ffdf",
   "metadata": {},
   "source": [
    "در ادامه کد را روی دو ماتریس داده شده اجرا می‌کنیم و وارون مشترک به دست آمده را نشان می‌دهیم:"
   ]
  },
  {
   "cell_type": "code",
   "execution_count": 2,
   "id": "94cbb5a9",
   "metadata": {},
   "outputs": [
    {
     "data": {
      "text/plain": [
       "2×5 Array{Float64,2}:\n",
       " -0.278166  2.09441   0.860917   -1.22844  -0.690365\n",
       "  0.161616  0.227273  0.0808081  -0.30303   0.247475"
      ]
     },
     "execution_count": 2,
     "metadata": {},
     "output_type": "execute_result"
    }
   ],
   "source": [
    "G1 = [\n",
    "    2 3\n",
    "    1 0\n",
    "    0 4\n",
    "    1 1\n",
    "    -1 2\n",
    "]\n",
    "G2 = [\n",
    "    -3 -1\n",
    "    -1 0\n",
    "    2 -3\n",
    "    -1 -3\n",
    "    1 2\n",
    "]\n",
    "\n",
    "H = dual_inverter(G1, G2)"
   ]
  },
  {
   "cell_type": "markdown",
   "id": "394425c3",
   "metadata": {},
   "source": [
    "برای تست نیز، وارون به دست آمده را در دو ماتریس ورودی ضرب می‌کنیم تا از همانی بودن جواب اطمینان حاصل کنیم۰"
   ]
  },
  {
   "cell_type": "code",
   "execution_count": 3,
   "id": "2c5707ca",
   "metadata": {},
   "outputs": [
    {
     "data": {
      "text/plain": [
       "2×2 Array{Float64,2}:\n",
       "  1.0          1.33227e-15\n",
       " -4.44089e-16  1.0"
      ]
     },
     "execution_count": 3,
     "metadata": {},
     "output_type": "execute_result"
    }
   ],
   "source": [
    "H*G1"
   ]
  },
  {
   "cell_type": "code",
   "execution_count": 4,
   "id": "60aab454",
   "metadata": {},
   "outputs": [
    {
     "data": {
      "text/plain": [
       "2×2 Array{Float64,2}:\n",
       " 1.0          -1.77636e-15\n",
       " 5.55112e-16   1.0"
      ]
     },
     "execution_count": 4,
     "metadata": {},
     "output_type": "execute_result"
    }
   ],
   "source": [
    "H*G2"
   ]
  }
 ],
 "metadata": {
  "kernelspec": {
   "display_name": "Julia 1.5.3",
   "language": "julia",
   "name": "julia-1.5"
  },
  "language_info": {
   "file_extension": ".jl",
   "mimetype": "application/julia",
   "name": "julia",
   "version": "1.5.3"
  }
 },
 "nbformat": 4,
 "nbformat_minor": 5
}
