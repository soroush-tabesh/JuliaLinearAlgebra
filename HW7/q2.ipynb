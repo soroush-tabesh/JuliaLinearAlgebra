{
 "cells": [
  {
   "cell_type": "markdown",
   "id": "e9f4eb32",
   "metadata": {},
   "source": [
    "# پرسش ۲"
   ]
  },
  {
   "cell_type": "code",
   "execution_count": 1,
   "id": "ef9598b5",
   "metadata": {},
   "outputs": [
    {
     "data": {
      "text/plain": [
       "125×5 Array{Float64,2}:\n",
       "  -7.98265    -8.97955   -6.38313     0.318053    4.07434\n",
       "  -9.43569     4.88096    1.66206     1.98737    -8.89477\n",
       "   4.51625     4.94668   -2.09299     6.46862     8.93127\n",
       "   2.01152    -2.20148   -7.03886    -1.04447    -6.20581\n",
       "  -7.90393     5.4277     6.04523     4.74787     4.44808\n",
       "   9.05046    -7.73148   -7.77579    -2.04723     3.09165\n",
       "  -6.43288     6.11189   -4.2933      7.63578     3.70565\n",
       "  11.5634    -11.6001    17.4463      5.69904     5.00321\n",
       "  -3.51344    -7.95205   -0.523364    3.26881     9.17655\n",
       "   3.36342     6.03456   -8.46932     3.95372     6.05524\n",
       "  -5.69604    -5.58807    0.826215   -4.56678    -3.72702\n",
       "  -1.22383     2.27355   -6.26915    -4.70013    -0.412935\n",
       "   6.96695     3.47667   -1.66572     4.63312     8.28825\n",
       "   ⋮                                            \n",
       "   1.30449    -0.734323   1.4823     -9.66735     9.29549\n",
       "   6.46592    -2.23082   -9.90901     6.22129    -8.05635\n",
       "  -1.33812     2.95596   -9.44346    -2.01912     3.04938\n",
       "  -9.66839     9.46082    6.95235    -4.61815    -1.09115\n",
       "   8.51404    -5.11749   -1.04914    -1.43756     1.40948\n",
       "  -8.50249     6.75381   -3.32339    -0.156603   -2.31418\n",
       "  -1.37182     6.30608   -2.71784    -6.67673     1.74549\n",
       "  11.2109      1.00764    9.95464    -7.23617    16.7027\n",
       "  -6.05264    -1.21726   -2.82701     2.70958    -8.86003\n",
       "   0.850696    1.39573    9.33153     1.12552    -7.25304\n",
       "   8.46456     9.81179    8.3322      8.99473    -0.605467\n",
       " -12.7702      2.73767   17.9214    -15.438     -11.7232"
      ]
     },
     "execution_count": 1,
     "metadata": {},
     "output_type": "execute_result"
    }
   ],
   "source": [
    "using LinearAlgebra, DelimitedFiles, Random\n",
    "\n",
    "data = readdlm(\"./data/data2.txt\")\n",
    "sfl = shuffle(1:size(data)[1])\n",
    "lbl = Int.(data[sfl, end])\n",
    "data = data[sfl, 1:end-1]"
   ]
  },
  {
   "cell_type": "code",
   "execution_count": 2,
   "id": "45bc53d9",
   "metadata": {},
   "outputs": [
    {
     "data": {
      "text/plain": [
       "([1; -1; … ; -1; -1], [1; -1; … ; 1; 1])"
      ]
     },
     "execution_count": 2,
     "metadata": {},
     "output_type": "execute_result"
    }
   ],
   "source": [
    "function get_slice(arr, k, i)\n",
    "    slr = zeros(Bool, (size(arr)[1]))\n",
    "    slr[(size(arr)[1]÷k*(i-1)+1):(size(arr)[1]÷k*i)] .= 1\n",
    "    return arr[slr, :], arr[(!).(slr), :]\n",
    "end\n",
    "\n",
    "test_data, train_data = get_slice(data, 5, 5)\n",
    "test_lbl, train_lbl = get_slice(lbl, 5, 5)"
   ]
  },
  {
   "cell_type": "code",
   "execution_count": 4,
   "id": "3aa116ae",
   "metadata": {},
   "outputs": [
    {
     "name": "stdout",
     "output_type": "stream",
     "text": [
      "Accuracy is 0.92\n"
     ]
    }
   ],
   "source": [
    "function perceptron_grouped(X, y, max_iter = 100)\n",
    "    w = zeros(size(X)[2])\n",
    "    for t = 1:max_iter\n",
    "        flag = false\n",
    "        for i = 1:size(X)[1]\n",
    "            if y[i] * (w ⋅ X[i, :]) <= 0\n",
    "                w .+= y[i] .* X[i, :]\n",
    "                flag = true\n",
    "                break\n",
    "            end\n",
    "        end\n",
    "        if !flag\n",
    "            break\n",
    "        end\n",
    "    end\n",
    "    return w\n",
    "end\n",
    "\n",
    "function predict_w(X, w)\n",
    "    res = X * w\n",
    "    res = (2 * (res .> 0)) .- 1\n",
    "    return res\n",
    "end\n",
    "\n",
    "w = perceptron_grouped(train_data, train_lbl)\n",
    "test_pred = predict_w(test_data, w)\n",
    "acc = count((test_pred - test_lbl) .== 0) / length(test_lbl)\n",
    "println(\"Accuracy is $acc\")"
   ]
  }
 ],
 "metadata": {
  "kernelspec": {
   "display_name": "Julia 1.5.3",
   "language": "julia",
   "name": "julia-1.5"
  },
  "language_info": {
   "file_extension": ".jl",
   "mimetype": "application/julia",
   "name": "julia",
   "version": "1.5.3"
  }
 },
 "nbformat": 4,
 "nbformat_minor": 5
}
