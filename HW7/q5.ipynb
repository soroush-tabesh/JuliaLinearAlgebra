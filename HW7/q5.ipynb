{
 "cells": [
  {
   "cell_type": "markdown",
   "id": "ab250300",
   "metadata": {},
   "source": [
    "# پرسش ۵\n",
    "\n",
    "برای این قسمت، ابتدا با استفاده از مدل $\\text{SVM}$\n",
    "به ازای هر یک از کلاس‌ها، یک کلیسفایر می‌سازیم و برای پیش‌بینی یک داده نیز، آن را با همه کلسیفایر‌ها ارزیابی می‌کنیم و ارزیاب‌ای که بیشترین اطمینان را دارد، به عنوان کلاس داده انتخاب می‌شود۰  \n",
    "به منظور جلوگیری از بیش‌برازش، پارامتر‌های مسئله را با $\\text{k-fold validation}$ \n",
    "روی دسته $\\text{train}$\n",
    "تعیین می‌کنیم؛ به گونه‌ای که واریانس دقت کم و میانگین دقت زیاد شود۰  \n",
    "برای بررسی بیش‌برازش شدن نیز می‌توانیم $\\text{train error}$ \n",
    "را با $\\text{test error}$\n",
    "مقایسه کنیم. در صورتی که تفاوت این دو مقدار زیاد باشد و خطای تست خیلی کمتر باشد، بیش‌برازش رخ داده‌است۰"
   ]
  },
  {
   "cell_type": "markdown",
   "id": "4a3c856b",
   "metadata": {},
   "source": [
    "ابتدا داده‌ها را لود می‌کنیم و در هم میریزیم۰"
   ]
  },
  {
   "cell_type": "code",
   "execution_count": 1,
   "id": "1cff6ba0",
   "metadata": {},
   "outputs": [
    {
     "data": {
      "text/plain": [
       "2126×21 Array{Float64,2}:\n",
       " 119.0  0.002  0.0    0.004  0.0    0.0  …  121.0  122.0  123.0    2.0   0.0\n",
       " 128.0  0.006  0.006  0.005  0.004  0.0     133.0  133.0  135.0   16.0   1.0\n",
       " 128.0  0.009  0.0    0.007  0.002  0.0     133.0  147.0  140.0  100.0   0.0\n",
       " 150.0  0.0    0.0    0.0    0.0    0.0     154.0  153.0  155.0    0.0   1.0\n",
       " 122.0  0.003  0.0    0.008  0.008  0.0     127.0  120.0  124.0   28.0   0.0\n",
       " 122.0  0.004  0.0    0.005  0.004  0.0  …  133.0  122.0  127.0   26.0   1.0\n",
       " 138.0  0.0    0.0    0.005  0.0    0.0     141.0  140.0  142.0    1.0   0.0\n",
       " 129.0  0.0    0.018  0.0    0.0    0.0     133.0  133.0  134.0    1.0   0.0\n",
       " 130.0  0.002  0.002  0.009  0.009  0.0      60.0   88.0  113.0  254.0  -1.0\n",
       " 136.0  0.0    0.0    0.006  0.003  0.0     140.0  137.0  140.0   12.0   1.0\n",
       " 120.0  0.009  0.091  0.002  0.0    0.0  …  163.0  152.0  160.0   42.0   1.0\n",
       " 148.0  0.0    0.0    0.0    0.0    0.0     150.0  149.0  151.0    0.0   1.0\n",
       " 148.0  0.0    0.005  0.002  0.0    0.0     150.0  148.0  150.0    0.0   1.0\n",
       "   ⋮                                ⋮    ⋱                               ⋮\n",
       " 146.0  0.001  0.0    0.003  0.002  0.0     157.0  151.0  156.0   17.0   1.0\n",
       " 124.0  0.005  0.015  0.002  0.0    0.0  …  129.0  130.0  131.0    2.0   1.0\n",
       " 122.0  0.001  0.0    0.003  0.012  0.0     112.0  113.0  116.0   21.0   0.0\n",
       " 136.0  0.0    0.004  0.008  0.007  0.0     134.0  119.0  131.0   45.0   1.0\n",
       " 122.0  0.0    0.018  0.003  0.005  0.0     119.0  113.0  117.0   24.0   0.0\n",
       " 130.0  0.016  0.084  0.002  0.0    0.0     159.0  151.0  155.0   25.0   1.0\n",
       " 121.0  0.005  0.004  0.005  0.006  0.0  …  124.0  120.0  125.0   37.0   0.0\n",
       " 137.0  0.009  0.003  0.004  0.001  0.0     146.0  144.0  145.0    8.0   0.0\n",
       " 149.0  0.01   0.0    0.01   0.002  0.0     169.0  161.0  166.0   22.0   1.0\n",
       " 146.0  0.0    0.0    0.008  0.001  0.0     150.0  147.0  150.0    8.0   1.0\n",
       " 122.0  0.002  0.0    0.0    0.007  0.0     122.0  119.0  122.0   79.0   0.0\n",
       " 138.0  0.013  0.0    0.003  0.001  0.0  …  147.0  147.0  148.0   10.0   1.0"
      ]
     },
     "execution_count": 1,
     "metadata": {},
     "output_type": "execute_result"
    }
   ],
   "source": [
    "using LinearAlgebra, DelimitedFiles, Plots, MLJ, LIBSVM, Printf\n",
    "\n",
    "data = readdlm(\"./data/data5.txt\")\n",
    "sfl = shuffle(1:size(data)[1])\n",
    "lbl = Int.(data[sfl, end])\n",
    "data = data[sfl, 1:end-1]"
   ]
  },
  {
   "cell_type": "markdown",
   "id": "c8550859",
   "metadata": {},
   "source": [
    "حال داده‌ها را به دو قسمت تست و آموزش تقسیم می‌کنیم"
   ]
  },
  {
   "cell_type": "code",
   "execution_count": 2,
   "id": "3937a9d5",
   "metadata": {},
   "outputs": [
    {
     "data": {
      "text/plain": [
       "([1; 1; … ; 1; 1], [1; 1; … ; 2; 1])"
      ]
     },
     "execution_count": 2,
     "metadata": {},
     "output_type": "execute_result"
    }
   ],
   "source": [
    "function get_slice(arr, k, i)\n",
    "    slr = zeros(Bool, (size(arr)[1]))\n",
    "    slr[(size(arr)[1]÷k*(i-1)+1):(size(arr)[1]÷k*i)] .= 1\n",
    "    return arr[slr, :], arr[(!).(slr), :]\n",
    "end\n",
    "\n",
    "test_data, train_data = get_slice(data, 5, 5)\n",
    "test_lbl, train_lbl = get_slice(lbl, 5, 5)"
   ]
  },
  {
   "cell_type": "code",
   "execution_count": 3,
   "id": "faab9f5c",
   "metadata": {},
   "outputs": [
    {
     "name": "stdout",
     "output_type": "stream",
     "text": [
      "Fold-1 Accuracy: 91.47058823529412\n",
      "Fold-2 Accuracy: 90.58823529411765\n",
      "Fold-3 Accuracy: 90.88235294117646\n",
      "Fold-4 Accuracy: 91.76470588235294\n",
      "Fold-5 Accuracy: 88.8235294117647\n",
      "Avg Accuracy: 90.70588235294117\n"
     ]
    }
   ],
   "source": [
    "function my_model(tr_data, tr_lbl, vld_data)\n",
    "    # train\n",
    "    models = []\n",
    "    for m = 1:3\n",
    "        m_lbl = 1 * (tr_lbl[:] .== m)\n",
    "        model = svmtrain(\n",
    "            collect(tr_data'),\n",
    "            m_lbl,\n",
    "            kernel = Kernel.RadialBasis,\n",
    "            gamma = 0.001,\n",
    "            cost = 10.0,\n",
    "        )\n",
    "        push!(models, model)\n",
    "    end\n",
    "    #validate\n",
    "    vld_pred = ones(Int, size(vld_data)[1])\n",
    "    vld_dec = zeros(size(vld_data)[1])\n",
    "    for m = 1:3\n",
    "        pred, dec = svmpredict(models[m], collect(vld_data'))\n",
    "        dec = abs.(dec)[1, :]\n",
    "        msk = (pred .> 0) .& (dec .> vld_dec)\n",
    "        vld_dec[msk] = dec[msk]\n",
    "        vld_pred[msk] = pred[msk] * m\n",
    "    end\n",
    "    return vld_pred\n",
    "end\n",
    "\n",
    "function confmat_m(ŷ, y)\n",
    "    return confmat(\n",
    "        coerce(vec(ŷ), OrderedFactor),\n",
    "        coerce(vec(y), OrderedFactor),\n",
    "    )\n",
    "end\n",
    "\n",
    "function accuracy_m(ŷ, y)\n",
    "    return accuracy(\n",
    "        coerce(vec(ŷ), OrderedFactor),\n",
    "        coerce(vec(y), OrderedFactor),\n",
    "    )\n",
    "end\n",
    "\n",
    "accs = []\n",
    "for fi = 1:5\n",
    "    vld_data, tr_data = get_slice(train_data, 5, fi)\n",
    "    vld_lbl, tr_lbl = get_slice(train_lbl, 5, fi)\n",
    "\n",
    "    vld_pred = my_model(tr_data, tr_lbl, vld_data)\n",
    "    acc = accuracy_m(vld_pred, vld_lbl) * 100\n",
    "\n",
    "    push!(accs, acc)\n",
    "    println(\"Fold-$fi Accuracy: $acc\")\n",
    "end\n",
    "println(\"Avg Accuracy: \", sum(accs) / 5)"
   ]
  },
  {
   "cell_type": "markdown",
   "id": "c9b9b542",
   "metadata": {},
   "source": [
    "در ادامه می‌توانید میزان دقت و ماتریس سردرگمی برای داده‌های تست را مشاهده کنید"
   ]
  },
  {
   "cell_type": "code",
   "execution_count": 4,
   "id": "0ec0f0d4",
   "metadata": {},
   "outputs": [
    {
     "name": "stdout",
     "output_type": "stream",
     "text": [
      "              ┌─────────────────────────────────────────┐\n",
      "              │              Ground Truth               │\n",
      "┌─────────────┼─────────────┬─────────────┬─────────────┤\n",
      "│  Predicted  │      1      │      2      │      3      │\n",
      "├─────────────┼─────────────┼─────────────┼─────────────┤\n",
      "│      1      │     326     │     17      │      3      │\n",
      "├─────────────┼─────────────┼─────────────┼─────────────┤\n",
      "│      2      │     16      │     36      │      1      │\n",
      "├─────────────┼─────────────┼─────────────┼─────────────┤\n",
      "│      3      │      0      │      2      │     24      │\n",
      "└─────────────┴─────────────┴─────────────┴─────────────┘\n",
      "90.8235294117647\n"
     ]
    }
   ],
   "source": [
    "test_pred = my_model(train_data, train_lbl, test_data)\n",
    "show(stdout, \"text/plain\", confmat_m(test_pred, test_lbl))\n",
    "println(accuracy_m(test_pred, test_lbl) * 100)"
   ]
  }
 ],
 "metadata": {
  "kernelspec": {
   "display_name": "Julia 1.5.3",
   "language": "julia",
   "name": "julia-1.5"
  },
  "language_info": {
   "file_extension": ".jl",
   "mimetype": "application/julia",
   "name": "julia",
   "version": "1.5.3"
  }
 },
 "nbformat": 4,
 "nbformat_minor": 5
}
