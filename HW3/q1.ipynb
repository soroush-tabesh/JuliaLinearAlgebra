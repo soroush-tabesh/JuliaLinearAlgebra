{
 "cells": [
  {
   "cell_type": "code",
   "execution_count": 11,
   "metadata": {},
   "outputs": [],
   "source": [
    "using LinearAlgebra"
   ]
  },
  {
   "cell_type": "code",
   "execution_count": null,
   "metadata": {},
   "outputs": [],
   "source": []
  },
  {
   "cell_type": "code",
   "execution_count": 191,
   "metadata": {},
   "outputs": [
    {
     "data": {
      "text/plain": [
       "4×4 Array{Float64,2}:\n",
       " 1.0  1.0  1.0  1.0\n",
       " 1.0  1.0  1.0  1.0\n",
       " 1.0  1.0  1.0  2.0\n",
       " 1.0  1.0  1.0  1.0"
      ]
     },
     "execution_count": 191,
     "metadata": {},
     "output_type": "execute_result"
    }
   ],
   "source": [
    "A = [1.00000000001 1 1;1 1 1;1 1 1;1 1 1]\n",
    "b = [1;1;2;1]\n",
    "Ab = [A b]"
   ]
  },
  {
   "cell_type": "code",
   "execution_count": 62,
   "metadata": {},
   "outputs": [
    {
     "name": "stdout",
     "output_type": "stream",
     "text": [
      "Vectors are linearly dependent.\n",
      "Vectors are linearly dependent.\n"
     ]
    },
    {
     "data": {
      "text/plain": [
       "4×4 Array{Float64,2}:\n",
       " 0.5  0.0  0.0  -0.288675\n",
       " 0.5  0.0  0.0  -0.288675\n",
       " 0.5  0.0  0.0   0.866025\n",
       " 0.5  0.0  0.0  -0.288675"
      ]
     },
     "execution_count": 62,
     "metadata": {},
     "output_type": "execute_result"
    }
   ],
   "source": [
    "function gram_schmidt(a; tol = 1e-10)\n",
    "    \n",
    "    q = []\n",
    "    for i = 1:(size(a)[1])\n",
    "        qtilde = a[:,i]\n",
    "        for j = 1:i-1\n",
    "            qtilde -= (q[j]'*a[:,i]) * q[j]\n",
    "        end\n",
    "        if norm(qtilde) < tol\n",
    "            println(\"Vectors are linearly dependent.\")\n",
    "            push!(q, qtilde*0)\n",
    "#             return q\n",
    "        else\n",
    "            push!(q, qtilde/norm(qtilde))\n",
    "        end\n",
    "    end;\n",
    "    return hcat(q...)\n",
    "end\n",
    "\n",
    "gram_schmidt(Ab)"
   ]
  },
  {
   "cell_type": "code",
   "execution_count": 146,
   "metadata": {},
   "outputs": [
    {
     "data": {
      "text/plain": [
       "4×4 Array{Float64,2}:\n",
       " -0.5   0.866025  -1.57009e-16   6.50354e-17\n",
       " -0.5  -0.288675   0.816497      2.16785e-17\n",
       " -0.5  -0.288675  -0.408248     -0.707107\n",
       " -0.5  -0.288675  -0.408248      0.707107"
      ]
     },
     "execution_count": 146,
     "metadata": {},
     "output_type": "execute_result"
    }
   ],
   "source": [
    "Q,R=qr(Ab)\n",
    "Q = Matrix(Q)\n",
    "R = Matrix(R)\n",
    "Q"
   ]
  },
  {
   "cell_type": "code",
   "execution_count": 148,
   "metadata": {},
   "outputs": [
    {
     "data": {
      "text/plain": [
       "4×4 Array{Float64,2}:\n",
       " -2.0  -2.0  -2.0  -2.0\n",
       "  0.0   0.0   0.0   0.0\n",
       "  0.0   0.0   0.0   0.0\n",
       "  0.0   0.0   0.0   0.0"
      ]
     },
     "execution_count": 148,
     "metadata": {},
     "output_type": "execute_result"
    }
   ],
   "source": [
    "\n",
    "function relax(A; tol = 1e-6)\n",
    "    A = copy(A)\n",
    "    for i = 1:length(A)\n",
    "    if abs(A[i]) < tol\n",
    "        A[i] = 0\n",
    "    end\n",
    "    end\n",
    "    return A\n",
    "end\n",
    "    \n",
    "relax(R)"
   ]
  },
  {
   "cell_type": "code",
   "execution_count": 151,
   "metadata": {},
   "outputs": [
    {
     "data": {
      "text/plain": [
       "4×4 Array{Float64,2}:\n",
       " 1.0  1.0  1.0  1.0\n",
       " 1.0  1.0  1.0  1.0\n",
       " 1.0  1.0  1.0  1.0\n",
       " 1.0  1.0  1.0  1.0"
      ]
     },
     "execution_count": 151,
     "metadata": {},
     "output_type": "execute_result"
    }
   ],
   "source": [
    "Q*R"
   ]
  },
  {
   "cell_type": "code",
   "execution_count": 150,
   "metadata": {},
   "outputs": [
    {
     "data": {
      "text/plain": [
       "4-element Array{Float64,1}:\n",
       " -1.9999999999999996\n",
       " -8.660183681286071e-12\n",
       "  2.220446049250313e-16\n",
       "  1.1102230246251565e-16"
      ]
     },
     "execution_count": 150,
     "metadata": {},
     "output_type": "execute_result"
    }
   ],
   "source": [
    "\n",
    "(Q'*b)"
   ]
  },
  {
   "cell_type": "code",
   "execution_count": 82,
   "metadata": {},
   "outputs": [
    {
     "data": {
      "text/plain": [
       "3-element Array{Float64,1}:\n",
       " 0.4166666666666663\n",
       " 0.4166666666666664\n",
       " 0.4166666666666663"
      ]
     },
     "execution_count": 82,
     "metadata": {},
     "output_type": "execute_result"
    }
   ],
   "source": [
    "tt=pinv(A'*A)*A'*b"
   ]
  },
  {
   "cell_type": "code",
   "execution_count": 83,
   "metadata": {},
   "outputs": [
    {
     "data": {
      "text/plain": [
       "4-element Array{Float64,1}:\n",
       " 1.2499999999999991\n",
       " 1.2499999999999991\n",
       " 1.2499999999999991\n",
       " 1.2499999999999991"
      ]
     },
     "execution_count": 83,
     "metadata": {},
     "output_type": "execute_result"
    }
   ],
   "source": [
    "A*tt"
   ]
  },
  {
   "cell_type": "code",
   "execution_count": 105,
   "metadata": {},
   "outputs": [
    {
     "data": {
      "text/plain": [
       "2"
      ]
     },
     "execution_count": 105,
     "metadata": {},
     "output_type": "execute_result"
    }
   ],
   "source": [
    "abs(-2)"
   ]
  },
  {
   "cell_type": "code",
   "execution_count": 152,
   "metadata": {},
   "outputs": [
    {
     "name": "stdout",
     "output_type": "stream",
     "text": [
      "Int64\n",
      "Int64\n",
      "Int64\n"
     ]
    }
   ],
   "source": [
    "for i = 1:3\n",
    "    println(typeof(i))\n",
    "end"
   ]
  },
  {
   "cell_type": "code",
   "execution_count": 213,
   "metadata": {},
   "outputs": [
    {
     "data": {
      "text/plain": [
       "3×3 Array{Float64,2}:\n",
       " -22.0454  -1.40619  -0.181444\n",
       "   0.0      7.21267   3.15346\n",
       "   0.0      0.0       0.150937"
      ]
     },
     "execution_count": 213,
     "metadata": {},
     "output_type": "execute_result"
    }
   ],
   "source": [
    "q = qr([3 1 7;0 22 1;1 1 2],Val(true))\n",
    "Matrix(q.R)"
   ]
  },
  {
   "cell_type": "code",
   "execution_count": 205,
   "metadata": {},
   "outputs": [
    {
     "data": {
      "text/plain": [
       "4×1 Array{Float64,2}:\n",
       " 1.00000000001\n",
       " 1.0\n",
       " 1.0\n",
       " 1.0"
      ]
     },
     "execution_count": 205,
     "metadata": {},
     "output_type": "execute_result"
    }
   ],
   "source": [
    "function licols(A::AbstractMatrix; atol::Real=0, rtol::Real=atol>0 ? 0 : size(A,1)*eps(eltype(A)))\n",
    "    k = rank(A; atol=atol, rtol=rtol)\n",
    "    q = qr(A,Val(true)) #use pivoted qr\n",
    "    idx =  q.p[1:k]\n",
    "    return A[:,idx]\n",
    "end\n",
    "At = licols(A,atol=1e-9)"
   ]
  },
  {
   "cell_type": "code",
   "execution_count": 206,
   "metadata": {},
   "outputs": [
    {
     "data": {
      "text/plain": [
       "0.866025403788047"
      ]
     },
     "execution_count": 206,
     "metadata": {},
     "output_type": "execute_result"
    }
   ],
   "source": [
    "    norm(At*(At\\b)-b)"
   ]
  },
  {
   "cell_type": "code",
   "execution_count": 208,
   "metadata": {},
   "outputs": [
    {
     "data": {
      "text/plain": [
       "1×4 Array{Float64,2}:\n",
       " 1.0  1.0  1.0  1.25"
      ]
     },
     "execution_count": 208,
     "metadata": {},
     "output_type": "execute_result"
    }
   ],
   "source": [
    "relax(At\\Ab)"
   ]
  },
  {
   "cell_type": "code",
   "execution_count": null,
   "metadata": {},
   "outputs": [],
   "source": []
  }
 ],
 "metadata": {
  "kernelspec": {
   "display_name": "Julia 1.5.3",
   "language": "julia",
   "name": "julia-1.5"
  },
  "language_info": {
   "file_extension": ".jl",
   "mimetype": "application/julia",
   "name": "julia",
   "version": "1.5.3"
  }
 },
 "nbformat": 4,
 "nbformat_minor": 4
}
